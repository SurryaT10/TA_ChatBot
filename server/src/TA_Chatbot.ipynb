{
  "cells": [
    {
      "cell_type": "code",
      "execution_count": 1,
      "metadata": {},
      "outputs": [
        {
          "data": {
            "text/plain": [
              "True"
            ]
          },
          "execution_count": 1,
          "metadata": {},
          "output_type": "execute_result"
        }
      ],
      "source": [
        "import os\n",
        "from dotenv import load_dotenv\n",
        "load_dotenv()"
      ]
    },
    {
      "cell_type": "code",
      "execution_count": 35,
      "metadata": {
        "id": "lPM62UscT-O2"
      },
      "outputs": [],
      "source": [
        "api_key = os.getenv(\"OPENAI_KEY\")\n",
        "prompt = os.getenv(\"SYSTEM_PROMPT\")"
      ]
    },
    {
      "cell_type": "code",
      "execution_count": 18,
      "metadata": {
        "id": "b-V__PgDHAW1"
      },
      "outputs": [],
      "source": [
        "import pandas as pd\n",
        "import json\n",
        "\n",
        "def convert_csv_to_training_format(input_excel, output_file):\n",
        "  system_message = {\n",
        "      \"role\": \"system\",\n",
        "      \"content\": prompt\n",
        "  }\n",
        "\n",
        "  dataset = pd.read_excel(input_excel)\n",
        "\n",
        "  with open(output_file, \"w\", encoding=\"utf-8\") as outfile:\n",
        "    for row in dataset.itertuples():\n",
        "      student_query = row.student_query\n",
        "      expected_json = row.expected_json\n",
        "\n",
        "      training_example = {\n",
        "          \"messages\": [\n",
        "              system_message,\n",
        "              { \"role\": \"user\", \"content\": student_query },\n",
        "              { \"role\": \"assistant\", \"content\": expected_json }\n",
        "          ]\n",
        "      }\n",
        "\n",
        "      outfile.write(json.dumps(training_example) + \"\\n\")\n",
        "\n",
        "convert_csv_to_training_format(\"dataset.xlsx\", \"training_data.jsonl\")"
      ]
    },
    {
      "cell_type": "code",
      "execution_count": 19,
      "metadata": {
        "id": "4uLvSuB_OynV"
      },
      "outputs": [],
      "source": [
        "from openai import OpenAI\n",
        "from time import sleep\n",
        "\n",
        "# Initialize OpenAI client\n",
        "client = OpenAI(api_key = api_key)"
      ]
    },
    {
      "cell_type": "code",
      "execution_count": 20,
      "metadata": {
        "id": "uUzr_Q8oTX9R"
      },
      "outputs": [],
      "source": [
        "def upload_training_file(file_path):\n",
        "    \"\"\"Upload training file to OpenAI\"\"\"\n",
        "    with open(file_path, \"rb\") as file:\n",
        "        response = client.files.create(\n",
        "            file=file,\n",
        "            purpose=\"fine-tune\"\n",
        "        )\n",
        "        return response.id"
      ]
    },
    {
      "cell_type": "code",
      "execution_count": 21,
      "metadata": {
        "id": "QdJH-FqATpSC"
      },
      "outputs": [],
      "source": [
        "# Upload both training and validation files\n",
        "training_file_id = upload_training_file(\"training_data.jsonl\")"
      ]
    },
    {
      "cell_type": "code",
      "execution_count": 22,
      "metadata": {
        "colab": {
          "base_uri": "https://localhost:8080/",
          "height": 36
        },
        "id": "vs3pOqQKTq3q",
        "outputId": "9500669e-7b0e-4b8a-b4c5-1f5a9c1619f4"
      },
      "outputs": [
        {
          "data": {
            "text/plain": [
              "'file-KYxfexaegJzsvWTNzKc5b8'"
            ]
          },
          "execution_count": 22,
          "metadata": {},
          "output_type": "execute_result"
        }
      ],
      "source": [
        "training_file_id"
      ]
    },
    {
      "cell_type": "code",
      "execution_count": 23,
      "metadata": {
        "id": "oG60sDZ8Ts2L"
      },
      "outputs": [],
      "source": [
        "def create_fine_tuning_job(training_file_id, validation_file_id=None, model=\"gpt-4o-mini-2024-07-18\"):\n",
        "    \"\"\"Create a fine-tuning job\"\"\"\n",
        "    response = client.fine_tuning.jobs.create(\n",
        "        training_file=training_file_id,\n",
        "        validation_file=validation_file_id,\n",
        "        model=model\n",
        "    )\n",
        "    return response.id\n",
        "\n",
        "# Start the fine-tuning job\n",
        "job_id = create_fine_tuning_job(training_file_id)"
      ]
    },
    {
      "cell_type": "code",
      "execution_count": 24,
      "metadata": {
        "colab": {
          "base_uri": "https://localhost:8080/",
          "height": 36
        },
        "id": "hmt14BicUTuf",
        "outputId": "a37c115c-ace9-466d-8267-4001c5d4351e"
      },
      "outputs": [
        {
          "data": {
            "text/plain": [
              "'ftjob-dVSi8UTrF4mfdHtkAX1PYnWt'"
            ]
          },
          "execution_count": 24,
          "metadata": {},
          "output_type": "execute_result"
        }
      ],
      "source": [
        "job_id"
      ]
    },
    {
      "cell_type": "code",
      "execution_count": 26,
      "metadata": {
        "colab": {
          "base_uri": "https://localhost:8080/"
        },
        "id": "bGxSNxbcUVEL",
        "outputId": "0a3cc735-d1ad-4408-99c6-ad53e41d9f8e"
      },
      "outputs": [],
      "source": [
        "def monitor_job(job_id):\n",
        "    \"\"\"Monitor fine-tuning job progress\"\"\"\n",
        "    while True:\n",
        "        job = client.fine_tuning.jobs.retrieve(job_id)\n",
        "        print(f\"Status: {job.status}\")\n",
        "\n",
        "        if job.status in [\"succeeded\", \"failed\"]:\n",
        "            return job\n",
        "\n",
        "        # List latest events\n",
        "        events = client.fine_tuning.jobs.list_events(\n",
        "            fine_tuning_job_id=job_id,\n",
        "            limit=5\n",
        "        )\n",
        "        for event in events.data:\n",
        "            print(f\"Event: {event.message}\")\n",
        "\n",
        "        sleep(30)  # Check every 30 seconds"
      ]
    },
    {
      "cell_type": "code",
      "execution_count": 27,
      "metadata": {},
      "outputs": [
        {
          "name": "stdout",
          "output_type": "stream",
          "text": [
            "Status: validating_files\n",
            "Event: Validating training file: file-KYxfexaegJzsvWTNzKc5b8\n",
            "Event: Created fine-tuning job: ftjob-dVSi8UTrF4mfdHtkAX1PYnWt\n",
            "Status: validating_files\n",
            "Event: Validating training file: file-KYxfexaegJzsvWTNzKc5b8\n",
            "Event: Created fine-tuning job: ftjob-dVSi8UTrF4mfdHtkAX1PYnWt\n",
            "Status: running\n",
            "Event: Fine-tuning job started\n",
            "Event: Files validated, moving job to queued state\n",
            "Event: Validating training file: file-KYxfexaegJzsvWTNzKc5b8\n",
            "Event: Created fine-tuning job: ftjob-dVSi8UTrF4mfdHtkAX1PYnWt\n",
            "Status: running\n",
            "Event: Fine-tuning job started\n",
            "Event: Files validated, moving job to queued state\n",
            "Event: Validating training file: file-KYxfexaegJzsvWTNzKc5b8\n",
            "Event: Created fine-tuning job: ftjob-dVSi8UTrF4mfdHtkAX1PYnWt\n",
            "Status: running\n",
            "Event: Fine-tuning job started\n",
            "Event: Files validated, moving job to queued state\n",
            "Event: Validating training file: file-KYxfexaegJzsvWTNzKc5b8\n",
            "Event: Created fine-tuning job: ftjob-dVSi8UTrF4mfdHtkAX1PYnWt\n",
            "Status: running\n",
            "Event: Fine-tuning job started\n",
            "Event: Files validated, moving job to queued state\n",
            "Event: Validating training file: file-KYxfexaegJzsvWTNzKc5b8\n",
            "Event: Created fine-tuning job: ftjob-dVSi8UTrF4mfdHtkAX1PYnWt\n",
            "Status: running\n",
            "Event: Step 6/84: training loss=0.87\n",
            "Event: Step 5/84: training loss=0.96\n",
            "Event: Step 4/84: training loss=1.01\n",
            "Event: Step 3/84: training loss=1.04\n",
            "Event: Step 2/84: training loss=1.03\n",
            "Status: running\n",
            "Event: Step 22/84: training loss=0.68\n",
            "Event: Step 21/84: training loss=0.48\n",
            "Event: Step 20/84: training loss=0.58\n",
            "Event: Step 19/84: training loss=0.91\n",
            "Event: Step 18/84: training loss=0.64\n",
            "Status: running\n",
            "Event: Step 51/84: training loss=0.12\n",
            "Event: Step 50/84: training loss=0.16\n",
            "Event: Step 49/84: training loss=0.26\n",
            "Event: Step 48/84: training loss=0.19\n",
            "Event: Step 47/84: training loss=0.26\n",
            "Status: running\n",
            "Event: Step 74/84: training loss=0.10\n",
            "Event: Step 73/84: training loss=0.22\n",
            "Event: Step 72/84: training loss=0.16\n",
            "Event: Step 71/84: training loss=0.06\n",
            "Event: Step 70/84: training loss=0.07\n",
            "Status: running\n",
            "Event: Step 81/84: training loss=0.06\n",
            "Event: Step 80/84: training loss=0.11\n",
            "Event: Step 79/84: training loss=0.08\n",
            "Event: Step 78/84: training loss=0.06\n",
            "Event: Step 77/84: training loss=0.10\n",
            "Status: succeeded\n",
            "Fine-tuned model ID: ft:gpt-4o-mini-2024-07-18:personal::B8FcZzfV\n"
          ]
        }
      ],
      "source": [
        "# Monitor the job until completion\n",
        "job = monitor_job(job_id)\n",
        "if job.status == \"succeeded\":\n",
        "    fine_tuned_model = job.fine_tuned_model\n",
        "    print(f\"Fine-tuned model ID: {fine_tuned_model}\")\n",
        "else:\n",
        "    print(\"Fine-tuning failed.\")"
      ]
    },
    {
      "cell_type": "code",
      "execution_count": 28,
      "metadata": {
        "id": "KXGjPejZUaQ8"
      },
      "outputs": [],
      "source": [
        "def test_model(model_id, test_input):\n",
        "    \"\"\"Test the fine-tuned model\"\"\"\n",
        "    completion = client.chat.completions.create(\n",
        "        model=model_id,\n",
        "        messages=[\n",
        "            {\n",
        "                \"role\": \"system\",\n",
        "                \"content\": prompt\n",
        "            },\n",
        "            {\"role\": \"user\", \"content\": test_input}\n",
        "        ]\n",
        "    )\n",
        "    return completion.choices[0].message"
      ]
    },
    {
      "cell_type": "code",
      "execution_count": 29,
      "metadata": {
        "colab": {
          "base_uri": "https://localhost:8080/"
        },
        "id": "RObXhpqVuPYK",
        "outputId": "dec05cae-62f3-478c-b477-e9b1ae0e958f"
      },
      "outputs": [],
      "source": [
        "test_query = \"Do I need to complete Differential Equations before I can take System Dynamics?\"\n",
        "result = test_model(fine_tuned_model, test_query)"
      ]
    },
    {
      "cell_type": "code",
      "execution_count": 30,
      "metadata": {
        "colab": {
          "base_uri": "https://localhost:8080/"
        },
        "id": "U0Zfo1_xuTN8",
        "outputId": "8fea2196-5129-4d81-edd4-7cab434562f2"
      },
      "outputs": [
        {
          "name": "stdout",
          "output_type": "stream",
          "text": [
            "{\n",
            "  \"message\": \"To take System Dynamics (EGM312), you need to have completed Kinematics of Machines (EGM311). While Differential Equations (MAT359) is not a direct prerequisite for System Dynamics, it is a fundamental mathematical tool used in many engineering analyses. If you haven't taken it yet, you may want to consider doing so concurrently or beforehand to support your understanding of the material.\",\n",
            "  \"suggested_courses\": [\n",
            "    {\n",
            "      \"course\": \"MAT359 - Ordinary Differential Equations\",\n",
            "      \"reason\": \"This course provides essential mathematical methods that are widely used in dynamic system analysis, which will be beneficial when studying System Dynamics.\"\n",
            "    }\n",
            "  ]\n",
            "}\n"
          ]
        }
      ],
      "source": [
        "# Parse the JSON response\n",
        "import json\n",
        "extracted_data = json.loads(result.content)\n",
        "print(json.dumps(extracted_data, indent=2))"
      ]
    },
    {
      "cell_type": "code",
      "execution_count": 31,
      "metadata": {
        "colab": {
          "base_uri": "https://localhost:8080/"
        },
        "id": "NTbdUQPkujGL",
        "outputId": "fde50de2-5687-41f2-8b58-3b1d646d151a"
      },
      "outputs": [
        {
          "name": "stdout",
          "output_type": "stream",
          "text": [
            "ft:gpt-4o-mini-2024-07-18:personal::B8FcZzfV\n"
          ]
        }
      ],
      "source": [
        "print(fine_tuned_model)"
      ]
    },
    {
      "cell_type": "code",
      "execution_count": null,
      "metadata": {},
      "outputs": [],
      "source": []
    }
  ],
  "metadata": {
    "colab": {
      "provenance": []
    },
    "kernelspec": {
      "display_name": "Python 3",
      "name": "python3"
    },
    "language_info": {
      "codemirror_mode": {
        "name": "ipython",
        "version": 3
      },
      "file_extension": ".py",
      "mimetype": "text/x-python",
      "name": "python",
      "nbconvert_exporter": "python",
      "pygments_lexer": "ipython3",
      "version": "3.11.7"
    }
  },
  "nbformat": 4,
  "nbformat_minor": 0
}
